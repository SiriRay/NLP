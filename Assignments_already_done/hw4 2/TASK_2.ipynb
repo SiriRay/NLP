{
 "cells": [
  {
   "cell_type": "markdown",
   "id": "0d37c026",
   "metadata": {},
   "source": [
    "### 1.  Reading the CoNLL corpus"
   ]
  },
  {
   "cell_type": "code",
   "execution_count": 277,
   "id": "182a3e11",
   "metadata": {},
   "outputs": [],
   "source": [
    "def read_data(file_path, has_tags=True):\n",
    "    sentences = []\n",
    "    tags = []\n",
    "    original_sentences = []  \n",
    "    \n",
    "    with open(file_path, 'r') as file:\n",
    "        sentence = []\n",
    "        tag = []\n",
    "        original_sentence = []  \n",
    "        for line in file:\n",
    "            if line.strip() == \"\":  \n",
    "                if sentence:  \n",
    "                    sentences.append(sentence)\n",
    "                    if has_tags: \n",
    "                        tags.append(tag)\n",
    "                    original_sentences.append(original_sentence) \n",
    "                    sentence = []\n",
    "                    tag = []\n",
    "                    original_sentence = []  \n",
    "                continue\n",
    "            \n",
    "            components = line.strip().split()\n",
    "            if has_tags:\n",
    "                index, word, ner_tag = components\n",
    "                tag.append(ner_tag)\n",
    "            else:\n",
    "                index, word = components\n",
    "            \n",
    "            sentence.append(word)\n",
    "            original_sentence.append(word) \n",
    "        \n",
    "        if sentence:\n",
    "            sentences.append(sentence)\n",
    "            if has_tags: \n",
    "                tags.append(tag)\n",
    "            original_sentences.append(original_sentence) \n",
    "    \n",
    "    if has_tags:\n",
    "        return sentences, tags, original_sentences\n",
    "    else:\n",
    "        return sentences, original_sentences"
   ]
  },
  {
   "cell_type": "code",
   "execution_count": 278,
   "id": "f34163b4",
   "metadata": {},
   "outputs": [],
   "source": [
    "train_file_path = 'data/train'\n",
    "dev_file_path = 'data/dev'\n",
    "test_file_path = 'data/test'\n",
    "\n",
    "train_sentences, train_tags, train_original_sentences = read_data(train_file_path)\n",
    "dev_sentences, dev_tags, dev_original_sentences = read_data(dev_file_path)\n",
    "test_sentences, test_original_sentences = read_data(test_file_path, has_tags=False)\n",
    "\n"
   ]
  },
  {
   "cell_type": "markdown",
   "id": "e463f2c4",
   "metadata": {},
   "source": [
    "### 2. Datasets and Dataloaders"
   ]
  },
  {
   "cell_type": "markdown",
   "id": "f38dda3f",
   "metadata": {},
   "source": [
    "#### 2.1 Create a Vocabulary and convert Text to Indices"
   ]
  },
  {
   "cell_type": "code",
   "execution_count": 279,
   "id": "0c23f348",
   "metadata": {},
   "outputs": [
    {
     "name": "stdout",
     "output_type": "stream",
     "text": [
      "['EU', 'German', 'call', 'to', 'boycott', 'British', 'lamb', '.', 'Peter', 'Blackburn']\n",
      "11983\n"
     ]
    }
   ],
   "source": [
    "from collections import Counter\n",
    "\n",
    "def build_vocab(sentences, min_freq=2):\n",
    "    word_counts = Counter(word for sentence in sentences for word in sentence)\n",
    "    \n",
    "    vocab = [word for word, count in word_counts.items() if count >= min_freq]\n",
    "    \n",
    "    vocab.append('<UNK>')\n",
    "    \n",
    "    word_to_idx = {word: idx for idx, word in enumerate(vocab)}\n",
    "    \n",
    "    return vocab, word_to_idx\n",
    "\n",
    "\n",
    "vocab, word_to_idx = build_vocab(train_sentences)\n",
    "\n",
    "print(vocab[:10])\n",
    "print(word_to_idx['<UNK>']) "
   ]
  },
  {
   "cell_type": "markdown",
   "id": "484717a9",
   "metadata": {},
   "source": [
    "#### 2.2 Encode Labels"
   ]
  },
  {
   "cell_type": "code",
   "execution_count": 280,
   "id": "d8226ee2",
   "metadata": {},
   "outputs": [],
   "source": [
    "def encode_sentences(sentences, word_to_idx):\n",
    "    encoded_sentences = []\n",
    "    \n",
    "    for sentence in sentences:\n",
    "        encoded_sentence = [word_to_idx.get(word, word_to_idx['<UNK>']) for word in sentence]\n",
    "        encoded_sentences.append(encoded_sentence)\n",
    "    \n",
    "    return encoded_sentences\n",
    "\n",
    "train_encoded_sentences = encode_sentences(train_sentences, word_to_idx)\n",
    "dev_encoded_sentences = encode_sentences(dev_sentences, word_to_idx)\n",
    "test_encoded_sentences = encode_sentences(test_sentences, word_to_idx)\n"
   ]
  },
  {
   "cell_type": "code",
   "execution_count": 281,
   "id": "c82eb57c",
   "metadata": {},
   "outputs": [],
   "source": [
    "def build_tag_vocab(tags):\n",
    "    unique_tags = set(tag for tag_list in tags for tag in tag_list)\n",
    "    tag_to_idx = {tag: idx for idx, tag in enumerate(unique_tags)}\n",
    "    return unique_tags, tag_to_idx\n",
    "\n",
    "unique_tags, tag_to_idx = build_tag_vocab(train_tags)\n",
    "\n",
    "def encode_tags(tags, tag_to_idx):\n",
    "    encoded_tags = [[tag_to_idx[tag] for tag in tag_list] for tag_list in tags]\n",
    "    return encoded_tags\n",
    "\n",
    "train_encoded_tags = encode_tags(train_tags, tag_to_idx)\n",
    "dev_encoded_tags = encode_tags(dev_tags, tag_to_idx)\n"
   ]
  },
  {
   "cell_type": "markdown",
   "id": "413c870e",
   "metadata": {},
   "source": [
    "#### 2.3 Create PyTorch Datasets"
   ]
  },
  {
   "cell_type": "code",
   "execution_count": 282,
   "id": "0d8cfd70",
   "metadata": {},
   "outputs": [],
   "source": [
    "import torch\n",
    "from torch.utils.data import Dataset\n",
    "\n",
    "class NERDataset(Dataset):\n",
    "    def __init__(self, sentences, tags=None):\n",
    "        self.sentences = sentences\n",
    "        self.tags = tags\n",
    "\n",
    "    def __len__(self):\n",
    "        return len(self.sentences)\n",
    "\n",
    "    def __getitem__(self, idx):\n",
    "        sentence = torch.tensor(self.sentences[idx], dtype=torch.long)\n",
    "        \n",
    "        if self.tags is not None:\n",
    "            tag = torch.tensor(self.tags[idx], dtype=torch.long)\n",
    "            return sentence, tag, len(sentence)\n",
    "        else:\n",
    "            return sentence, len(sentence)\n",
    "\n",
    "\n",
    "train_dataset = NERDataset(train_encoded_sentences, train_encoded_tags)\n",
    "dev_dataset = NERDataset(dev_encoded_sentences, dev_encoded_tags)\n",
    "test_dataset = NERDataset(test_encoded_sentences)\n"
   ]
  },
  {
   "cell_type": "code",
   "execution_count": 283,
   "id": "018feb8e",
   "metadata": {},
   "outputs": [],
   "source": [
    "\n",
    "from torch.nn.utils.rnn import pad_sequence\n",
    "\n",
    "def pad_collate(batch):\n",
    "    if len(batch[0]) == 3: \n",
    "        sentences, tags, lengths = zip(*batch)\n",
    "        sentences_padded = pad_sequence(sentences, batch_first=True, padding_value=word_to_idx['<UNK>'])\n",
    "        tags_padded = pad_sequence(tags, batch_first=True, padding_value=tag_to_idx.get('O', 0))\n",
    "        return sentences_padded, tags_padded, torch.tensor(lengths)\n",
    "    else: \n",
    "        sentences, lengths = zip(*batch)\n",
    "        sentences_padded = pad_sequence(sentences, batch_first=True, padding_value=word_to_idx['<UNK>'])\n",
    "        return sentences_padded, torch.tensor(lengths)\n"
   ]
  },
  {
   "cell_type": "markdown",
   "id": "425b42d5",
   "metadata": {},
   "source": [
    "#### 2.4 Create DataLoaders"
   ]
  },
  {
   "cell_type": "code",
   "execution_count": 284,
   "id": "adeda1a5",
   "metadata": {},
   "outputs": [],
   "source": [
    "from torch.utils.data import DataLoader\n",
    "\n",
    "BATCH_SIZE= 32\n",
    "train_loader = DataLoader(train_dataset, batch_size=BATCH_SIZE, shuffle=True, collate_fn=pad_collate)\n",
    "dev_loader = DataLoader(dev_dataset, batch_size=BATCH_SIZE, shuffle=False, collate_fn=pad_collate)\n",
    "test_loader = DataLoader(test_dataset, batch_size=BATCH_SIZE, shuffle=False, collate_fn=pad_collate)\n"
   ]
  },
  {
   "cell_type": "markdown",
   "id": "8374b3e6",
   "metadata": {},
   "source": [
    "### 3. Model "
   ]
  },
  {
   "cell_type": "code",
   "execution_count": 285,
   "id": "d3120671",
   "metadata": {
    "scrolled": true
   },
   "outputs": [],
   "source": [
    "# Hyperparameters\n",
    "EMBEDDING_DIM = 100\n",
    "HIDDEN_DIM = 256\n",
    "OUTPUT_DIM = 128\n",
    "DROPOUT = 0.33"
   ]
  },
  {
   "cell_type": "code",
   "execution_count": 286,
   "id": "b8b2beb4",
   "metadata": {},
   "outputs": [],
   "source": [
    "import torch\n",
    "\n",
    "device = \"mps\""
   ]
  },
  {
   "cell_type": "markdown",
   "id": "c0f1c817",
   "metadata": {},
   "source": [
    "## TASK 2\n"
   ]
  },
  {
   "cell_type": "code",
   "execution_count": 287,
   "id": "f69208f9",
   "metadata": {},
   "outputs": [],
   "source": [
    "import gzip\n",
    "import numpy as np\n",
    "\n",
    "def load_glove_embeddings(file_path):\n",
    "    embeddings_index = {}\n",
    "    with gzip.open(file_path, 'rt', encoding='utf-8') as f:\n",
    "        for line in f:\n",
    "            values = line.split()\n",
    "            word = values[0]\n",
    "            coefs = np.asarray(values[1:], dtype='float32')\n",
    "            embeddings_index[word] = coefs\n",
    "    return embeddings_index\n",
    "\n",
    "glove_embeddings_path = 'glove.6B.100d.gz'\n",
    "glove_embeddings = load_glove_embeddings(glove_embeddings_path)\n"
   ]
  },
  {
   "cell_type": "code",
   "execution_count": 288,
   "id": "bd9181a0",
   "metadata": {},
   "outputs": [],
   "source": [
    "def prepare_embeddings_matrix(vocab, word_to_idx, glove_embeddings, embedding_dim):\n",
    "    num_words = len(vocab)\n",
    "    embedding_matrix = np.zeros((num_words, embedding_dim))\n",
    "    for word, idx in word_to_idx.items():\n",
    "        if word in glove_embeddings:\n",
    "            embedding_matrix[idx] = glove_embeddings[word]\n",
    "        else:\n",
    "            embedding_matrix[idx] = np.random.normal(scale=0.6, size=(embedding_dim,))\n",
    "    return embedding_matrix\n",
    "\n",
    "embedding_matrix = prepare_embeddings_matrix(vocab, word_to_idx, glove_embeddings, EMBEDDING_DIM)\n",
    "embedding_matrix_tensor = torch.FloatTensor(embedding_matrix).to(device)\n",
    "\n"
   ]
  },
  {
   "cell_type": "code",
   "execution_count": 289,
   "id": "1c51a6ae",
   "metadata": {},
   "outputs": [],
   "source": [
    "import torch\n",
    "import torch.nn as nn\n",
    "\n",
    "class BiLSTM_NER(nn.Module):\n",
    "    def __init__(self, vocab_size, embedding_dim, lstm_hidden_dim, output_dim, dropout, embeddings):\n",
    "        super(BiLSTM_NER, self).__init__()\n",
    "        self.embedding = nn.Embedding.from_pretrained(embeddings, freeze=True)\n",
    "        \n",
    "        self.bilstm = nn.LSTM(embedding_dim, lstm_hidden_dim, batch_first=True, bidirectional=True)\n",
    "        \n",
    "        self.dropout = nn.Dropout(dropout)\n",
    "        \n",
    "        self.linear = nn.Linear(lstm_hidden_dim * 2, output_dim)\n",
    "        self.elu = nn.ELU()\n",
    "        self.classifier = nn.Linear(output_dim, len(tag_to_idx))\n",
    "\n",
    "    def forward(self, sentence):\n",
    "        embedded = self.embedding(sentence)\n",
    "        lstm_out, _ = self.bilstm(embedded)\n",
    "        \n",
    "        lstm_out = self.dropout(lstm_out)\n",
    "        \n",
    "        linear_out = self.linear(lstm_out)\n",
    "        elu_out = self.elu(linear_out)\n",
    "        scores = self.classifier(elu_out)\n",
    "        return scores\n",
    "\n",
    "model = BiLSTM_NER(len(vocab), EMBEDDING_DIM, HIDDEN_DIM, OUTPUT_DIM, DROPOUT, embedding_matrix_tensor).to(device)\n"
   ]
  },
  {
   "cell_type": "code",
   "execution_count": 290,
   "id": "bb283b4b",
   "metadata": {},
   "outputs": [
    {
     "name": "stdout",
     "output_type": "stream",
     "text": [
      "Epoch 1/40, Loss: 0.13455049336147207\n",
      "Epoch 2/40, Loss: 0.05663739720474619\n",
      "Epoch 3/40, Loss: 0.035877034489089236\n",
      "Epoch 4/40, Loss: 0.024050709157030403\n",
      "Epoch 5/40, Loss: 0.017513726052564026\n",
      "Epoch 6/40, Loss: 0.012738870379370031\n",
      "Epoch 7/40, Loss: 0.010463419123125801\n",
      "Epoch 8/40, Loss: 0.008816287012473901\n",
      "Epoch 9/40, Loss: 0.0073117489103294376\n",
      "Epoch 10/40, Loss: 0.006505328522218681\n",
      "Epoch 11/40, Loss: 0.005903841208056934\n",
      "Epoch 12/40, Loss: 0.005216828587459155\n",
      "Epoch 13/40, Loss: 0.004843631145530202\n",
      "Epoch 14/40, Loss: 0.004306939234626966\n",
      "Epoch 15/40, Loss: 0.004181493900632282\n",
      "Epoch 16/40, Loss: 0.004066386770169466\n",
      "Epoch 17/40, Loss: 0.0036569800873129154\n",
      "Epoch 18/40, Loss: 0.0037084387664563768\n",
      "Epoch 19/40, Loss: 0.0031682204449304074\n",
      "Epoch 20/40, Loss: 0.0032181271551474026\n",
      "Epoch 21/40, Loss: 0.0029513299575590936\n",
      "Epoch 22/40, Loss: 0.0030349240246740393\n",
      "Epoch 23/40, Loss: 0.0029052025128777055\n",
      "Epoch 24/40, Loss: 0.0028517244742355566\n",
      "Epoch 25/40, Loss: 0.002917672924855081\n",
      "Epoch 26/40, Loss: 0.002892673230522237\n",
      "Epoch 27/40, Loss: 0.0029315362386378163\n",
      "Epoch 28/40, Loss: 0.0016473392800053224\n",
      "Epoch 29/40, Loss: 0.001018638112442022\n",
      "Epoch 30/40, Loss: 0.0009425911197824757\n",
      "Epoch 31/40, Loss: 0.0008938103098157112\n",
      "Epoch 32/40, Loss: 0.0007813348162557137\n",
      "Epoch 33/40, Loss: 0.0007580211478232708\n",
      "Epoch 34/40, Loss: 0.0008179817245435484\n",
      "Epoch 35/40, Loss: 0.0007275771212349832\n",
      "Epoch 36/40, Loss: 0.0006569220444036598\n",
      "Epoch 37/40, Loss: 0.0007404868371952828\n",
      "Epoch 38/40, Loss: 0.0006861727599077643\n",
      "Epoch 39/40, Loss: 0.0006847835219984473\n",
      "Epoch 40/40, Loss: 0.0006539665648165259\n"
     ]
    }
   ],
   "source": [
    "# Hyperparameters\n",
    "import torch.optim as optim\n",
    "from torch.optim.lr_scheduler import ReduceLROnPlateau\n",
    "\n",
    "\n",
    "N_EPOCHS = 40\n",
    "\n",
    "# Loss Function\n",
    "loss_function = nn.CrossEntropyLoss()\n",
    "\n",
    "optimizer = optim.RMSprop(model.parameters(), lr=0.0025, alpha=0.99)\n",
    "scheduler = ReduceLROnPlateau(optimizer, mode='min', factor=0.3, patience=2)\n",
    "\n",
    "\n",
    "# Training loop\n",
    "for epoch in range(N_EPOCHS):\n",
    "    model.train()\n",
    "    total_loss = 0\n",
    "    \n",
    "    for sentence, tags, lengths in train_loader:\n",
    "        sentence, tags = sentence.to(device), tags.to(device)\n",
    "        model.zero_grad()\n",
    "        \n",
    "        tag_scores = model(sentence)\n",
    "        \n",
    "        tag_scores = tag_scores.view(-1, tag_scores.shape[-1]) \n",
    "        tags = tags.view(-1) \n",
    "        \n",
    "        loss = loss_function(tag_scores, tags)\n",
    "        loss.backward()\n",
    "        optimizer.step()\n",
    "        \n",
    "        total_loss += loss.item()\n",
    "    \n",
    "    print(f\"Epoch {epoch+1}/{N_EPOCHS}, Loss: {total_loss/len(train_loader)}\")\n",
    "    \n",
    "    scheduler.step(total_loss/len(train_loader))"
   ]
  },
  {
   "cell_type": "code",
   "execution_count": 291,
   "id": "1fd4e0cc",
   "metadata": {},
   "outputs": [],
   "source": [
    "idx_to_vocab = {idx: word for word, idx in word_to_idx.items()}\n",
    "idx_to_tag = {idx: tag for tag, idx in tag_to_idx.items()}\n",
    "\n",
    "def write_predictions_to_file_with_glove(model, data_loader, idx_to_tag, output_file_path, original_sentences):\n",
    "    model.eval()\n",
    "    predictions = []\n",
    "    sentence_counter = 0 \n",
    "\n",
    "    with torch.no_grad():\n",
    "        for batch in data_loader:\n",
    "            if len(batch) == 3: \n",
    "                sentences, lengths = batch[0], batch[2]\n",
    "            else: \n",
    "                sentences, lengths = batch[0], batch[1]\n",
    "\n",
    "            sentences = sentences.to(device)\n",
    "            outputs = model(sentences)\n",
    "            predicted_tag_indices = torch.argmax(outputs, dim=2)\n",
    "\n",
    "            for i, length in enumerate(lengths):\n",
    "                original_sentence = original_sentences[sentence_counter]\n",
    "                sentence_counter += 1  \n",
    "\n",
    "                for j in range(length.item()): \n",
    "                    original_word = original_sentence[j] if j < len(original_sentence) else \"<PAD>\"\n",
    "                    predicted_tag_index = predicted_tag_indices[i][j].item()\n",
    "                    predicted_tag = idx_to_tag[predicted_tag_index]\n",
    "                    predictions.append(f\"{j+1} {original_word} {predicted_tag}\\n\")\n",
    "                predictions.append(\"\\n\")\n",
    "\n",
    "    with open(output_file_path, 'w') as writer:\n",
    "        writer.writelines(predictions)\n",
    "\n",
    "    print(f\"Predictions written to {output_file_path}\")\n"
   ]
  },
  {
   "cell_type": "code",
   "execution_count": 292,
   "id": "0d3f078e",
   "metadata": {},
   "outputs": [
    {
     "name": "stdout",
     "output_type": "stream",
     "text": [
      "Predictions written to dev2.out\n",
      "Predictions written to test2.out\n",
      "processed 51578 tokens with 5942 phrases; found: 5517 phrases; correct: 4649.\n",
      "accuracy:  96.27%; precision:  84.27%; recall:  78.24%; FB1:  81.14\n",
      "              LOC: precision:  89.76%; recall:  83.51%; FB1:  86.52  1709\n",
      "             MISC: precision:  84.22%; recall:  75.27%; FB1:  79.50  824\n",
      "              ORG: precision:  76.92%; recall:  74.05%; FB1:  75.46  1291\n",
      "              PER: precision:  84.35%; recall:  77.52%; FB1:  80.79  1693\n"
     ]
    }
   ],
   "source": [
    "output_file_path_dev = 'dev2.out'\n",
    "write_predictions_to_file_with_glove(model, dev_loader, idx_to_tag, output_file_path_dev, dev_sentences)\n",
    "\n",
    "output_file_path_test = 'test2.out'\n",
    "write_predictions_to_file_with_glove(model, test_loader, idx_to_tag, output_file_path_test, test_sentences)\n",
    "\n",
    "\n",
    "predicted_file_path_glove = output_file_path_dev\n",
    "gold_standard_file_path = 'data/dev'\n",
    "\n",
    "!python eval.py -p {predicted_file_path_glove} -g {gold_standard_file_path}"
   ]
  },
  {
   "cell_type": "code",
   "execution_count": 293,
   "id": "2f9d84d1",
   "metadata": {},
   "outputs": [],
   "source": [
    "import torch\n",
    "torch.save(model.state_dict(), 'blstm2.pt')"
   ]
  },
  {
   "cell_type": "code",
   "execution_count": null,
   "id": "12e824e6",
   "metadata": {},
   "outputs": [],
   "source": []
  }
 ],
 "metadata": {
  "kernelspec": {
   "display_name": "Python 3 (ipykernel)",
   "language": "python",
   "name": "python3"
  },
  "language_info": {
   "codemirror_mode": {
    "name": "ipython",
    "version": 3
   },
   "file_extension": ".py",
   "mimetype": "text/x-python",
   "name": "python",
   "nbconvert_exporter": "python",
   "pygments_lexer": "ipython3",
   "version": "3.11.5"
  }
 },
 "nbformat": 4,
 "nbformat_minor": 5
}
