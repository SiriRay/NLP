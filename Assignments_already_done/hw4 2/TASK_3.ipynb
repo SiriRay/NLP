{
 "cells": [
  {
   "cell_type": "markdown",
   "id": "0d37c026",
   "metadata": {},
   "source": [
    "### 1.  Reading the CoNLL corpus"
   ]
  },
  {
   "cell_type": "code",
   "execution_count": 246,
   "id": "182a3e11",
   "metadata": {},
   "outputs": [],
   "source": [
    "def read_data(file_path, has_tags=True):\n",
    "    sentences = []\n",
    "    tags = []\n",
    "    original_sentences = []  \n",
    "    \n",
    "    with open(file_path, 'r') as file:\n",
    "        sentence = []\n",
    "        tag = []\n",
    "        original_sentence = [] \n",
    "        for line in file:\n",
    "            if line.strip() == \"\":  \n",
    "                if sentence:  \n",
    "                    sentences.append(sentence)\n",
    "                    if has_tags: \n",
    "                        tags.append(tag)\n",
    "                    original_sentences.append(original_sentence)  \n",
    "                    sentence = []\n",
    "                    tag = []\n",
    "                    original_sentence = [] \n",
    "                continue\n",
    "            \n",
    "            components = line.strip().split()\n",
    "            if has_tags:\n",
    "                index, word, ner_tag = components\n",
    "                tag.append(ner_tag)\n",
    "            else:\n",
    "                index, word = components\n",
    "            \n",
    "            sentence.append(word)\n",
    "            original_sentence.append(word)  \n",
    "        \n",
    "        if sentence:\n",
    "            sentences.append(sentence)\n",
    "            if has_tags: \n",
    "                tags.append(tag)\n",
    "            original_sentences.append(original_sentence)  \n",
    "    \n",
    "    if has_tags:\n",
    "        return sentences, tags, original_sentences\n",
    "    else:\n",
    "        return sentences, original_sentences"
   ]
  },
  {
   "cell_type": "code",
   "execution_count": 247,
   "id": "f34163b4",
   "metadata": {},
   "outputs": [],
   "source": [
    "train_file_path = 'data/train'\n",
    "dev_file_path = 'data/dev'\n",
    "test_file_path = 'data/test'\n",
    "\n",
    "train_sentences, train_tags, train_original_sentences = read_data(train_file_path)\n",
    "dev_sentences, dev_tags, dev_original_sentences = read_data(dev_file_path)\n",
    "test_sentences, test_original_sentences = read_data(test_file_path, has_tags=False)\n",
    "\n"
   ]
  },
  {
   "cell_type": "markdown",
   "id": "e463f2c4",
   "metadata": {},
   "source": [
    "### 2. Datasets and Dataloaders"
   ]
  },
  {
   "cell_type": "markdown",
   "id": "f38dda3f",
   "metadata": {},
   "source": [
    "#### 2.1 Create a Vocabulary and convert Text to Indices"
   ]
  },
  {
   "cell_type": "code",
   "execution_count": 248,
   "id": "0c23f348",
   "metadata": {},
   "outputs": [
    {
     "name": "stdout",
     "output_type": "stream",
     "text": [
      "['EU', 'German', 'call', 'to', 'boycott', 'British', 'lamb', '.', 'Peter', 'Blackburn']\n",
      "11983\n"
     ]
    }
   ],
   "source": [
    "from collections import Counter\n",
    "\n",
    "def build_vocab(sentences, min_freq=2):\n",
    "\n",
    "    word_counts = Counter(word for sentence in sentences for word in sentence)\n",
    "    \n",
    "\n",
    "    vocab = [word for word, count in word_counts.items() if count >= min_freq]\n",
    "    \n",
    "    vocab.append('<UNK>')\n",
    "    \n",
    "  \n",
    "    word_to_idx = {word: idx for idx, word in enumerate(vocab)}\n",
    "    \n",
    "    return vocab, word_to_idx\n",
    "\n",
    "\n",
    "vocab, word_to_idx = build_vocab(train_sentences)\n",
    "\n",
    "print(vocab[:10])\n",
    "print(word_to_idx['<UNK>'])  "
   ]
  },
  {
   "cell_type": "markdown",
   "id": "484717a9",
   "metadata": {},
   "source": [
    "#### 2.2 Encode Labels"
   ]
  },
  {
   "cell_type": "code",
   "execution_count": 249,
   "id": "d8226ee2",
   "metadata": {},
   "outputs": [],
   "source": [
    "def encode_sentences(sentences, word_to_idx):\n",
    "    encoded_sentences = []\n",
    "    \n",
    "    for sentence in sentences:\n",
    "        encoded_sentence = [word_to_idx.get(word, word_to_idx['<UNK>']) for word in sentence]\n",
    "        encoded_sentences.append(encoded_sentence)\n",
    "    \n",
    "    return encoded_sentences\n",
    "\n",
    "train_encoded_sentences = encode_sentences(train_sentences, word_to_idx)\n",
    "dev_encoded_sentences = encode_sentences(dev_sentences, word_to_idx)\n",
    "test_encoded_sentences = encode_sentences(test_sentences, word_to_idx)\n"
   ]
  },
  {
   "cell_type": "code",
   "execution_count": 250,
   "id": "c82eb57c",
   "metadata": {},
   "outputs": [],
   "source": [
    "def build_tag_vocab(tags):\n",
    "    unique_tags = set(tag for tag_list in tags for tag in tag_list)\n",
    "    tag_to_idx = {tag: idx for idx, tag in enumerate(unique_tags)}\n",
    "    return unique_tags, tag_to_idx\n",
    "\n",
    "unique_tags, tag_to_idx = build_tag_vocab(train_tags)\n",
    "\n",
    "def encode_tags(tags, tag_to_idx):\n",
    "    encoded_tags = [[tag_to_idx[tag] for tag in tag_list] for tag_list in tags]\n",
    "    return encoded_tags\n",
    "\n",
    "train_encoded_tags = encode_tags(train_tags, tag_to_idx)\n",
    "dev_encoded_tags = encode_tags(dev_tags, tag_to_idx)\n"
   ]
  },
  {
   "cell_type": "markdown",
   "id": "413c870e",
   "metadata": {},
   "source": [
    "#### 2.3 Create PyTorch Datasets"
   ]
  },
  {
   "cell_type": "code",
   "execution_count": 251,
   "id": "0d8cfd70",
   "metadata": {},
   "outputs": [],
   "source": [
    "import torch\n",
    "from torch.utils.data import Dataset\n",
    "\n",
    "class NERDataset(Dataset):\n",
    "    def __init__(self, sentences, tags=None, char_sentences=None):\n",
    "        self.sentences = sentences\n",
    "        self.tags = tags\n",
    "        self.char_sentences = char_sentences  \n",
    "    \n",
    "    def __len__(self):\n",
    "        return len(self.sentences)\n",
    "    \n",
    "    def __getitem__(self, idx):\n",
    "        sentence = torch.tensor(self.sentences[idx], dtype=torch.long)\n",
    "\n",
    "\n",
    "        if self.tags is not None:\n",
    "            tag = torch.tensor(self.tags[idx], dtype=torch.long)\n",
    "            if self.char_sentences is not None:\n",
    "                char_sentence = torch.tensor(self.char_sentences[idx], dtype=torch.long)\n",
    "                return sentence, tag, char_sentence, len(sentence)\n",
    "            else:\n",
    "                return sentence, tag, len(sentence)\n",
    "        else:\n",
    "            if self.char_sentences is not None:\n",
    "                char_sentence = torch.tensor(self.char_sentences[idx], dtype=torch.long)\n",
    "                return sentence, char_sentence, len(sentence)\n",
    "            else:\n",
    "                return sentence, len(sentence)\n",
    "\n",
    "\n",
    "train_char_sequences = []\n",
    "for sentence in train_sentences:\n",
    "    for word in sentence:\n",
    "        char_sequence = []\n",
    "        for char in word:\n",
    "            if char in word_to_idx:\n",
    "                char_sequence.append(word_to_idx[char])\n",
    "            else:\n",
    "                char_sequence.append(word_to_idx['<UNK>']) \n",
    "        train_char_sequences.append(char_sequence)\n",
    "\n",
    "dev_char_sequences = []\n",
    "for sentence in dev_sentences:\n",
    "    for word in sentence:\n",
    "        char_sequence = []\n",
    "        for char in word:\n",
    "            if char in word_to_idx:\n",
    "                char_sequence.append(word_to_idx[char])\n",
    "            else:\n",
    "                char_sequence.append(word_to_idx['<UNK>'])  \n",
    "        dev_char_sequences.append(char_sequence)\n",
    "\n",
    "test_char_sequences = []\n",
    "for sentence in test_sentences:\n",
    "    for word in sentence:\n",
    "        char_sequence = []\n",
    "        for char in word:\n",
    "            if char in word_to_idx:\n",
    "                char_sequence.append(word_to_idx[char])\n",
    "            else:\n",
    "                char_sequence.append(word_to_idx['<UNK>']) \n",
    "        test_char_sequences.append(char_sequence)\n",
    "\n",
    "train_dataset = NERDataset(train_encoded_sentences, train_encoded_tags, train_char_sequences)\n",
    "dev_dataset = NERDataset(dev_encoded_sentences, dev_encoded_tags, dev_char_sequences)\n",
    "test_dataset = NERDataset(test_encoded_sentences, char_sentences=test_char_sequences)\n"
   ]
  },
  {
   "cell_type": "markdown",
   "id": "425b42d5",
   "metadata": {},
   "source": [
    "#### 2.4 Create DataLoaders"
   ]
  },
  {
   "cell_type": "code",
   "execution_count": 252,
   "id": "adeda1a5",
   "metadata": {},
   "outputs": [],
   "source": [
    "from torch.utils.data import DataLoader\n",
    "\n",
    "BATCH_SIZE= 8\n"
   ]
  },
  {
   "cell_type": "code",
   "execution_count": 253,
   "id": "018feb8e",
   "metadata": {},
   "outputs": [],
   "source": [
    "from torch.nn.utils.rnn import pad_sequence\n",
    "from torch.utils.data import DataLoader\n",
    "\n",
    "\n",
    "def pad_collate(batch):\n",
    "    if len(batch[0]) == 4: \n",
    "        sentences, tags, char_sentences, lengths = zip(*batch)\n",
    "        tags_padded = pad_sequence(tags, batch_first=True, padding_value=tag_to_idx['O'])\n",
    "    else:  \n",
    "        sentences, char_sentences, lengths = zip(*batch)\n",
    "        tags_padded = None  \n",
    "\n",
    "    sentences_padded = pad_sequence(sentences, batch_first=True, padding_value=word_to_idx['<UNK>'])\n",
    "    char_sentences_padded = pad_sequence(char_sentences, batch_first=True, padding_value=0) \n",
    "    \n",
    "    return (sentences_padded, tags_padded, char_sentences_padded, lengths) if tags_padded is not None else (sentences_padded, char_sentences_padded, lengths)\n",
    "\n",
    "\n",
    "\n",
    "train_loader = DataLoader(train_dataset, batch_size=BATCH_SIZE, shuffle=True, collate_fn=pad_collate)\n",
    "dev_loader = DataLoader(dev_dataset, batch_size=BATCH_SIZE, shuffle=False, collate_fn=pad_collate)\n",
    "test_loader = DataLoader(test_dataset, batch_size=BATCH_SIZE, shuffle=False, collate_fn=pad_collate)\n"
   ]
  },
  {
   "cell_type": "markdown",
   "id": "8374b3e6",
   "metadata": {},
   "source": [
    "### 3. Model "
   ]
  },
  {
   "cell_type": "code",
   "execution_count": 254,
   "id": "d3120671",
   "metadata": {
    "scrolled": true
   },
   "outputs": [],
   "source": [
    "# Hyperparameters\n",
    "EMBEDDING_DIM = 100\n",
    "HIDDEN_DIM = 256\n",
    "OUTPUT_DIM = 128\n",
    "# DROPOUT = 0.33\n",
    "\n"
   ]
  },
  {
   "cell_type": "code",
   "execution_count": 255,
   "id": "ac9f1c87",
   "metadata": {},
   "outputs": [],
   "source": [
    "import torch\n",
    "\n",
    "device = \"mps\"\n",
    "\n"
   ]
  },
  {
   "cell_type": "markdown",
   "id": "c0f1c817",
   "metadata": {},
   "source": [
    "## TASK 2\n"
   ]
  },
  {
   "cell_type": "code",
   "execution_count": 256,
   "id": "f69208f9",
   "metadata": {},
   "outputs": [],
   "source": [
    "import gzip\n",
    "import numpy as np\n",
    "\n",
    "def load_glove_embeddings(file_path):\n",
    "    embeddings_index = {}\n",
    "    with gzip.open(file_path, 'rt', encoding='utf-8') as f:\n",
    "        for line in f:\n",
    "            values = line.split()\n",
    "            word = values[0]\n",
    "            coefs = np.asarray(values[1:], dtype='float32')\n",
    "            embeddings_index[word] = coefs\n",
    "    return embeddings_index\n",
    "\n",
    "glove_embeddings_path = 'glove.6B.100d.gz'\n",
    "glove_embeddings = load_glove_embeddings(glove_embeddings_path)\n"
   ]
  },
  {
   "cell_type": "code",
   "execution_count": 257,
   "id": "bd9181a0",
   "metadata": {},
   "outputs": [],
   "source": [
    "def prepare_embeddings_matrix(vocab, word_to_idx, glove_embeddings, embedding_dim):\n",
    "    num_words = len(vocab)\n",
    "    embedding_matrix = np.zeros((num_words, embedding_dim))\n",
    "    for word, idx in word_to_idx.items():\n",
    "        if word in glove_embeddings:\n",
    "            embedding_matrix[idx] = glove_embeddings[word]\n",
    "        else:\n",
    "            embedding_matrix[idx] = np.random.normal(scale=0.6, size=(embedding_dim,))\n",
    "    return embedding_matrix\n",
    "\n",
    "embedding_matrix = prepare_embeddings_matrix(vocab, word_to_idx, glove_embeddings, EMBEDDING_DIM)\n",
    "embedding_matrix_tensor = torch.FloatTensor(embedding_matrix).to(device)\n",
    "\n"
   ]
  },
  {
   "cell_type": "code",
   "execution_count": 258,
   "id": "1c51a6ae",
   "metadata": {},
   "outputs": [],
   "source": [
    "import torch\n",
    "import torch.nn as nn\n",
    "import torch.nn.functional as F\n",
    "class BiLSTM_CNN_NER(nn.Module):\n",
    "    def __init__(self, vocab_size, embedding_dim, lstm_hidden_dim, output_dim, dropout, embeddings, char_vocab_size, char_embedding_dim, num_filters, kernel_sizes):\n",
    "        super(BiLSTM_CNN_NER, self).__init__()\n",
    "        \n",
    "        self.embedding = nn.Embedding.from_pretrained(embeddings, freeze=True)\n",
    "        \n",
    "        self.char_embedding = nn.Embedding(char_vocab_size, char_embedding_dim)\n",
    "        \n",
    "        self.conv_layers = nn.ModuleList([\n",
    "            nn.Conv1d(in_channels=char_embedding_dim, out_channels=num_filters, kernel_size=kernel_size, padding=1)\n",
    "            for kernel_size in kernel_sizes\n",
    "        ])\n",
    "        \n",
    "        self.bilstm = nn.LSTM(embedding_dim + num_filters * len(kernel_sizes), lstm_hidden_dim, batch_first=True, bidirectional=True)\n",
    "        \n",
    "        self.dropout = nn.Dropout(dropout)\n",
    "        \n",
    "        self.linear = nn.Linear(lstm_hidden_dim*2, output_dim)\n",
    "        \n",
    "        self.elu = nn.ELU()\n",
    "        \n",
    "        self.classifier = nn.Linear(output_dim, len(tag_to_idx))\n",
    "        \n",
    "    def forward(self, sentence, char_sentence):\n",
    "\n",
    "        embedded = self.embedding(sentence)\n",
    "\n",
    "        char_embedded = self.char_embedding(char_sentence)\n",
    "        char_embedded = char_embedded.permute(0, 2, 1) \n",
    "        char_conv_outputs = [self.elu(conv(char_embedded)) for conv in self.conv_layers]\n",
    "        char_pooled = [F.max_pool1d(conv_output, conv_output.size(2)).squeeze(2) for conv_output in char_conv_outputs]\n",
    "        char_output = torch.cat(char_pooled, dim=1)\n",
    "\n",
    "        combined_embedded = torch.cat((embedded, char_output.unsqueeze(1).repeat(1, embedded.size(1), 1)), dim=2)\n",
    "\n",
    "        lstm_out, _ = self.bilstm(combined_embedded)\n",
    "        \n",
    "        lstm_out = self.dropout(lstm_out)\n",
    "\n",
    "        linear_out = self.linear(lstm_out)\n",
    "        \n",
    "        elu_out = self.elu(linear_out)\n",
    "        \n",
    "        scores = self.classifier(elu_out)\n",
    "        \n",
    "        return scores\n"
   ]
  },
  {
   "cell_type": "code",
   "execution_count": 259,
   "id": "6a6c4181",
   "metadata": {},
   "outputs": [],
   "source": [
    "CHAR_EMBEDDING_DIM = 30\n",
    "NUM_FILTERS = 125\n",
    "KERNEL_SIZES = [1, 2]  \n",
    "DROPOUT = 0.5\n",
    "\n",
    "char_vocab = set()\n",
    "for sentence in train_sentences:\n",
    "    for word in sentence:\n",
    "        for char in word:\n",
    "            char_vocab.add(char)\n",
    "            \n",
    "char_vocab_size = len(char_vocab)\n",
    "\n",
    "model = BiLSTM_CNN_NER(len(vocab), EMBEDDING_DIM, HIDDEN_DIM, OUTPUT_DIM, DROPOUT, embedding_matrix_tensor,\n",
    "                       len(char_vocab), CHAR_EMBEDDING_DIM, NUM_FILTERS, KERNEL_SIZES).to(device)\n"
   ]
  },
  {
   "cell_type": "code",
   "execution_count": 260,
   "id": "bb283b4b",
   "metadata": {},
   "outputs": [
    {
     "name": "stdout",
     "output_type": "stream",
     "text": [
      "Epoch 1/20, Loss: 0.1845587582904905\n",
      "Epoch 2/20, Loss: 0.12110883954976036\n",
      "Epoch 3/20, Loss: 0.09920751727101658\n",
      "Epoch 4/20, Loss: 0.08324684729012427\n",
      "Epoch 5/20, Loss: 0.07344832893792966\n",
      "Epoch 6/20, Loss: 0.0650795348627958\n",
      "Epoch 7/20, Loss: 0.05706630968175661\n",
      "Epoch 8/20, Loss: 0.051433596504716\n",
      "Epoch 9/20, Loss: 0.045055111765510775\n",
      "Epoch 10/20, Loss: 0.04209915597676106\n",
      "Epoch 11/20, Loss: 0.03824761379713922\n",
      "Epoch 12/20, Loss: 0.03505686715116904\n",
      "Epoch 13/20, Loss: 0.03272666550936113\n",
      "Epoch 14/20, Loss: 0.02948963659299231\n",
      "Epoch 15/20, Loss: 0.026937129281593183\n",
      "Epoch 16/20, Loss: 0.0252216634872496\n",
      "Epoch 17/20, Loss: 0.023576928900788413\n",
      "Epoch 18/20, Loss: 0.02205564538088821\n",
      "Epoch 19/20, Loss: 0.02029309493741178\n",
      "Epoch 20/20, Loss: 0.019358200460580812\n"
     ]
    }
   ],
   "source": [
    "# Hyperparameters\n",
    "import torch.optim as optim\n",
    "from torch.optim.lr_scheduler import ReduceLROnPlateau\n",
    "\n",
    "\n",
    "N_EPOCHS = 20\n",
    "\n",
    "# Loss Function\n",
    "loss_function = nn.CrossEntropyLoss()\n",
    "\n",
    "# Optimizer\n",
    "optimizer = optim.SGD(model.parameters(), lr=1)\n",
    "\n",
    "scheduler = ReduceLROnPlateau(optimizer, mode='min', factor=0.1, patience=2)\n",
    "\n",
    "for epoch in range(N_EPOCHS):\n",
    "    model.train()\n",
    "    total_loss = 0\n",
    "    \n",
    "    for sentence, tags, char_sentence, lengths in train_loader:\n",
    "        sentence, tags, char_sentence = sentence.to(device), tags.to(device), char_sentence.to(device)\n",
    "        model.zero_grad()\n",
    "        \n",
    "        tag_scores = model(sentence, char_sentence)\n",
    "        \n",
    "        tag_scores = tag_scores.view(-1, tag_scores.shape[-1]) \n",
    "        tags = tags.view(-1)  \n",
    "        \n",
    "        loss = loss_function(tag_scores, tags)\n",
    "        loss.backward()\n",
    "        optimizer.step()\n",
    "        \n",
    "        total_loss += loss.item()\n",
    "    \n",
    "    print(f\"Epoch {epoch+1}/{N_EPOCHS}, Loss: {total_loss/len(train_loader)}\")\n",
    "    \n",
    "    scheduler.step(total_loss/len(train_loader))"
   ]
  },
  {
   "cell_type": "code",
   "execution_count": 261,
   "id": "1fd4e0cc",
   "metadata": {},
   "outputs": [],
   "source": [
    "idx_to_vocab = {idx: word for word, idx in word_to_idx.items()}\n",
    "idx_to_tag = {idx: tag for tag, idx in tag_to_idx.items()}\n",
    "\n",
    "def write_predictions_to_file(model, data_loader, idx_to_tag, output_file_path, original_sentences):\n",
    "    model.eval()\n",
    "    predictions = []\n",
    "\n",
    "    with torch.no_grad():\n",
    "        for batch_idx, batch in enumerate(data_loader):\n",
    "            if len(batch) == 4: \n",
    "                sentence_tensors, _, char_sentence_tensors, lengths = batch\n",
    "            else:  \n",
    "                sentence_tensors, char_sentence_tensors, lengths = batch\n",
    "\n",
    "            sentence_tensors = sentence_tensors.to(device)\n",
    "            char_sentence_tensors = char_sentence_tensors.to(device)\n",
    "            outputs = model(sentence_tensors, char_sentence_tensors)\n",
    "            predicted_tag_indices = torch.argmax(outputs, dim=2)\n",
    "\n",
    "            for i, length in enumerate(lengths):\n",
    "                original_sentence = original_sentences[batch_idx * data_loader.batch_size + i]\n",
    "                for j in range(length):\n",
    "                    original_word = original_sentence[j]\n",
    "                    predicted_tag_index = predicted_tag_indices[i][j].item()\n",
    "                    predicted_tag = idx_to_tag[predicted_tag_index]\n",
    "                    predictions.append(f\"{j+1} {original_word} {predicted_tag}\\n\")\n",
    "                predictions.append(\"\\n\")\n",
    "\n",
    "    with open(output_file_path, 'w') as writer:\n",
    "        writer.writelines(predictions)\n",
    "\n",
    "    print(f\"Predictions written to {output_file_path}\")"
   ]
  },
  {
   "cell_type": "code",
   "execution_count": 262,
   "id": "dcc2f28a",
   "metadata": {
    "scrolled": true
   },
   "outputs": [
    {
     "name": "stdout",
     "output_type": "stream",
     "text": [
      "Predictions written to dev3.out\n",
      "Predictions written to test3.out\n",
      "processed 51578 tokens with 5942 phrases; found: 5426 phrases; correct: 4455.\n",
      "accuracy:  95.90%; precision:  82.10%; recall:  74.97%; FB1:  78.38\n",
      "              LOC: precision:  91.01%; recall:  82.14%; FB1:  86.35  1658\n",
      "             MISC: precision:  78.39%; recall:  75.16%; FB1:  76.74  884\n",
      "              ORG: precision:  75.35%; recall:  68.83%; FB1:  71.94  1225\n",
      "              PER: precision:  80.17%; recall:  72.20%; FB1:  75.98  1659\n"
     ]
    }
   ],
   "source": [
    "dev_output_file_path = 'dev3.out'\n",
    "write_predictions_to_file(model, dev_loader, idx_to_tag, dev_output_file_path, dev_sentences)\n",
    "\n",
    "test_output_file_path = 'test3.out'\n",
    "write_predictions_to_file(model, test_loader, idx_to_tag, test_output_file_path, test_sentences)\n",
    "\n",
    "predicted_file_path_glove = output_file_path_glove\n",
    "gold_standard_file_path = 'data/dev'\n",
    "\n",
    "!python eval.py -p {dev_output_file_path} -g {gold_standard_file_path}"
   ]
  },
  {
   "cell_type": "code",
   "execution_count": 263,
   "id": "c29d913b",
   "metadata": {},
   "outputs": [],
   "source": [
    "import torch\n",
    "torch.save(model.state_dict(), 'blstm3.pt')"
   ]
  },
  {
   "cell_type": "code",
   "execution_count": null,
   "id": "a4f66c76",
   "metadata": {},
   "outputs": [],
   "source": []
  }
 ],
 "metadata": {
  "kernelspec": {
   "display_name": "Python 3 (ipykernel)",
   "language": "python",
   "name": "python3"
  },
  "language_info": {
   "codemirror_mode": {
    "name": "ipython",
    "version": 3
   },
   "file_extension": ".py",
   "mimetype": "text/x-python",
   "name": "python",
   "nbconvert_exporter": "python",
   "pygments_lexer": "ipython3",
   "version": "3.11.5"
  }
 },
 "nbformat": 4,
 "nbformat_minor": 5
}
