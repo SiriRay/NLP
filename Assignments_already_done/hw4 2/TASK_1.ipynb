{
 "cells": [
  {
   "cell_type": "markdown",
   "id": "ea7d48b8",
   "metadata": {},
   "source": [
    "## TASK1"
   ]
  },
  {
   "cell_type": "markdown",
   "id": "0d37c026",
   "metadata": {},
   "source": [
    "### 1.  Reading the CoNLL corpus"
   ]
  },
  {
   "cell_type": "code",
   "execution_count": 297,
   "id": "182a3e11",
   "metadata": {},
   "outputs": [],
   "source": [
    "def read_data(file_path, has_tags=True):\n",
    "    sentences = []\n",
    "    tags = []\n",
    "    original_sentences = []  \n",
    "    \n",
    "    with open(file_path, 'r') as file:\n",
    "        sentence = []\n",
    "        tag = []\n",
    "        original_sentence = []  \n",
    "        for line in file:\n",
    "            if line.strip() == \"\":  \n",
    "                if sentence:  \n",
    "                    sentences.append(sentence)\n",
    "                    if has_tags: \n",
    "                        tags.append(tag)\n",
    "                    original_sentences.append(original_sentence)  \n",
    "                    sentence = []\n",
    "                    tag = []\n",
    "                    original_sentence = []\n",
    "                continue\n",
    "            \n",
    "            components = line.strip().split()\n",
    "            if has_tags:\n",
    "                index, word, ner_tag = components\n",
    "                tag.append(ner_tag)\n",
    "            else:\n",
    "                index, word = components\n",
    "            \n",
    "            sentence.append(word)\n",
    "            original_sentence.append(word) \n",
    "        \n",
    "        if sentence:\n",
    "            sentences.append(sentence)\n",
    "            if has_tags: \n",
    "                tags.append(tag)\n",
    "            original_sentences.append(original_sentence) \n",
    "    \n",
    "    if has_tags:\n",
    "        return sentences, tags, original_sentences\n",
    "    else:\n",
    "        return sentences, original_sentences"
   ]
  },
  {
   "cell_type": "code",
   "execution_count": 298,
   "id": "f34163b4",
   "metadata": {},
   "outputs": [],
   "source": [
    "train_file_path = 'data/train'\n",
    "dev_file_path = 'data/dev'\n",
    "test_file_path = 'data/test'\n",
    "\n",
    "train_sentences, train_tags, train_original_sentences = read_data(train_file_path)\n",
    "dev_sentences, dev_tags, dev_original_sentences = read_data(dev_file_path)\n",
    "test_sentences, test_original_sentences = read_data(test_file_path, has_tags=False)\n",
    "\n"
   ]
  },
  {
   "cell_type": "markdown",
   "id": "e463f2c4",
   "metadata": {},
   "source": [
    "### 2. Datasets and Dataloaders"
   ]
  },
  {
   "cell_type": "markdown",
   "id": "f38dda3f",
   "metadata": {},
   "source": [
    "#### 2.1 Create a Vocabulary and convert Text to Indices"
   ]
  },
  {
   "cell_type": "code",
   "execution_count": 299,
   "id": "0c23f348",
   "metadata": {},
   "outputs": [],
   "source": [
    "from collections import Counter\n",
    "\n",
    "def build_vocab(sentences, min_freq=2):\n",
    "    word_counts = Counter(word for sentence in sentences for word in sentence)\n",
    "    \n",
    "    vocab = [word for word, count in word_counts.items() if count >= min_freq]\n",
    "    \n",
    "    vocab.append('<UNK>')\n",
    "    \n",
    "    word_to_idx = {word: idx for idx, word in enumerate(vocab)}\n",
    "    \n",
    "    return vocab, word_to_idx\n",
    "\n",
    "vocab, word_to_idx = build_vocab(train_sentences)"
   ]
  },
  {
   "cell_type": "markdown",
   "id": "484717a9",
   "metadata": {},
   "source": [
    "#### 2.2 Encode Labels"
   ]
  },
  {
   "cell_type": "code",
   "execution_count": 300,
   "id": "d8226ee2",
   "metadata": {},
   "outputs": [],
   "source": [
    "def encode_sentences(sentences, word_to_idx):\n",
    "    encoded_sentences = []\n",
    "    \n",
    "    for sentence in sentences:\n",
    "        encoded_sentence = [word_to_idx.get(word, word_to_idx['<UNK>']) for word in sentence]\n",
    "        encoded_sentences.append(encoded_sentence)\n",
    "    \n",
    "    return encoded_sentences\n",
    "\n",
    "train_encoded_sentences = encode_sentences(train_sentences, word_to_idx)\n",
    "dev_encoded_sentences = encode_sentences(dev_sentences, word_to_idx)\n",
    "test_encoded_sentences = encode_sentences(test_sentences, word_to_idx)\n"
   ]
  },
  {
   "cell_type": "code",
   "execution_count": 301,
   "id": "c82eb57c",
   "metadata": {},
   "outputs": [],
   "source": [
    "def build_tag_vocab(tags):\n",
    "    unique_tags = set(tag for tag_list in tags for tag in tag_list)\n",
    "    tag_to_idx = {tag: idx for idx, tag in enumerate(unique_tags)}\n",
    "    return unique_tags, tag_to_idx\n",
    "\n",
    "unique_tags, tag_to_idx = build_tag_vocab(train_tags)\n",
    "\n",
    "def encode_tags(tags, tag_to_idx):\n",
    "    encoded_tags = [[tag_to_idx[tag] for tag in tag_list] for tag_list in tags]\n",
    "    return encoded_tags\n",
    "\n",
    "train_encoded_tags = encode_tags(train_tags, tag_to_idx)\n",
    "dev_encoded_tags = encode_tags(dev_tags, tag_to_idx)\n"
   ]
  },
  {
   "cell_type": "markdown",
   "id": "413c870e",
   "metadata": {},
   "source": [
    "#### 2.3 Create PyTorch Datasets"
   ]
  },
  {
   "cell_type": "code",
   "execution_count": 302,
   "id": "0d8cfd70",
   "metadata": {},
   "outputs": [],
   "source": [
    "import torch\n",
    "from torch.utils.data import Dataset\n",
    "\n",
    "class NERDataset(Dataset):\n",
    "    def __init__(self, sentences, tags=None):\n",
    "        self.sentences = sentences\n",
    "        self.tags = tags\n",
    "        self.indices = list(range(len(sentences)))\n",
    "\n",
    "    def __len__(self):\n",
    "        return len(self.sentences)\n",
    "\n",
    "    def __getitem__(self, idx):\n",
    "        sentence = torch.tensor(self.sentences[idx], dtype=torch.long)\n",
    "        index = self.indices[idx]  # Get the original index\n",
    "\n",
    "        if self.tags is not None:\n",
    "            tag = torch.tensor(self.tags[idx], dtype=torch.long)\n",
    "            return sentence, tag, len(sentence), index\n",
    "        else:\n",
    "            return sentence, len(sentence), index\n",
    "\n",
    "\n",
    "train_dataset = NERDataset(train_encoded_sentences, train_encoded_tags)\n",
    "dev_dataset = NERDataset(dev_encoded_sentences, dev_encoded_tags)\n",
    "test_dataset = NERDataset(test_encoded_sentences)\n"
   ]
  },
  {
   "cell_type": "code",
   "execution_count": 303,
   "id": "018feb8e",
   "metadata": {},
   "outputs": [],
   "source": [
    "from torch.nn.utils.rnn import pad_sequence\n",
    "\n",
    "def pad_collate(batch):\n",
    "    sentences = [item[0] for item in batch]  \n",
    "    sentences_padded = pad_sequence(sentences, batch_first=True, padding_value=word_to_idx['<UNK>'])\n",
    "    \n",
    "    lengths = torch.tensor([item[2] for item in batch]) \n",
    "    \n",
    "    if len(batch[0]) == 4: \n",
    "        indices = [item[3] for item in batch] \n",
    "    else:\n",
    "        indices = [item[2] for item in batch] \n",
    "    \n",
    "\n",
    "    if any(isinstance(item[1], torch.Tensor) for item in batch):\n",
    "        tags = [item[1] for item in batch] \n",
    "        tags_padded = pad_sequence(tags, batch_first=True, padding_value=tag_to_idx['O'])\n",
    "    else:\n",
    "        tags_padded = None\n",
    "\n",
    "    return sentences_padded, tags_padded, lengths, torch.tensor(indices)\n",
    "\n",
    "\n",
    "\n"
   ]
  },
  {
   "cell_type": "markdown",
   "id": "425b42d5",
   "metadata": {},
   "source": [
    "#### 2.4 Create DataLoaders"
   ]
  },
  {
   "cell_type": "code",
   "execution_count": 304,
   "id": "adeda1a5",
   "metadata": {},
   "outputs": [],
   "source": [
    "from torch.utils.data import DataLoader\n",
    "\n",
    "BATCH_SIZE= 8\n",
    "train_loader = DataLoader(train_dataset, batch_size=BATCH_SIZE, shuffle=True, collate_fn=pad_collate)\n",
    "dev_loader = DataLoader(dev_dataset, batch_size=BATCH_SIZE, shuffle=False, collate_fn=pad_collate)\n",
    "test_loader = DataLoader(test_dataset, batch_size=BATCH_SIZE, shuffle=False, collate_fn=pad_collate)\n"
   ]
  },
  {
   "cell_type": "markdown",
   "id": "8374b3e6",
   "metadata": {},
   "source": [
    "### 3. Model "
   ]
  },
  {
   "cell_type": "code",
   "execution_count": 305,
   "id": "771bf04d",
   "metadata": {},
   "outputs": [],
   "source": [
    "import torch\n",
    "\n",
    "device = \"mps\""
   ]
  },
  {
   "cell_type": "code",
   "execution_count": 306,
   "id": "e1c8f00b",
   "metadata": {},
   "outputs": [],
   "source": [
    "import torch.nn as nn\n",
    "\n",
    "class BiLSTM_NER(nn.Module):\n",
    "    def __init__(self, vocab_size, embedding_dim, lstm_hidden_dim, output_dim, dropout_rate):\n",
    "        super(BiLSTM_NER, self).__init__()\n",
    "        self.embedding = nn.Embedding(vocab_size, embedding_dim)\n",
    "        self.dropout = nn.Dropout(dropout_rate)  \n",
    "        self.bilstm = nn.LSTM(embedding_dim, lstm_hidden_dim, batch_first=True,\n",
    "                              bidirectional=True)\n",
    "        self.linear = nn.Linear(lstm_hidden_dim*2, output_dim)\n",
    "        self.elu = nn.ELU()\n",
    "        self.classifier = nn.Linear(output_dim, len(tag_to_idx))\n",
    "\n",
    "    def forward(self, sentence):\n",
    "        embedded = self.embedding(sentence)\n",
    "        embedded = self.dropout(embedded)  \n",
    "        lstm_out, _ = self.bilstm(embedded)\n",
    "        lstm_out = self.dropout(lstm_out) \n",
    "        linear_out = self.linear(lstm_out)\n",
    "        elu_out = self.elu(linear_out)\n",
    "        scores = self.classifier(elu_out)\n",
    "        return scores"
   ]
  },
  {
   "cell_type": "markdown",
   "id": "3f01a3c1",
   "metadata": {},
   "source": [
    "#### 3.1 Initializing hyperparameters"
   ]
  },
  {
   "cell_type": "code",
   "execution_count": 307,
   "id": "d3120671",
   "metadata": {
    "scrolled": true
   },
   "outputs": [],
   "source": [
    "EMBEDDING_DIM = 100\n",
    "HIDDEN_DIM = 256\n",
    "OUTPUT_DIM = 128\n",
    "DROPOUT = 0.33\n",
    "\n",
    "model = BiLSTM_NER(len(vocab), EMBEDDING_DIM, HIDDEN_DIM, OUTPUT_DIM, DROPOUT).to(device)\n"
   ]
  },
  {
   "cell_type": "code",
   "execution_count": 308,
   "id": "b36eaed9",
   "metadata": {},
   "outputs": [],
   "source": [
    "import torch.optim as optim\n",
    "\n",
    "loss_function = nn.CrossEntropyLoss()\n",
    "\n",
    "optimizer = optim.SGD(model.parameters(), lr=1)"
   ]
  },
  {
   "cell_type": "code",
   "execution_count": 309,
   "id": "d5b38277",
   "metadata": {},
   "outputs": [],
   "source": [
    "from torch.optim.lr_scheduler import ReduceLROnPlateau\n",
    "\n",
    "scheduler = ReduceLROnPlateau(optimizer, mode='min', factor=0.75, patience=6)\n"
   ]
  },
  {
   "cell_type": "markdown",
   "id": "baec0917",
   "metadata": {},
   "source": [
    "### 4. Training the model"
   ]
  },
  {
   "cell_type": "code",
   "execution_count": 310,
   "id": "cd5335ac",
   "metadata": {},
   "outputs": [
    {
     "name": "stdout",
     "output_type": "stream",
     "text": [
      "Epoch 1/30, Loss: 0.2591114677866501\n",
      "Epoch 2/30, Loss: 0.18519444295116716\n",
      "Epoch 3/30, Loss: 0.1515665519465727\n",
      "Epoch 4/30, Loss: 0.12803727640445356\n",
      "Epoch 5/30, Loss: 0.11448936686943521\n",
      "Epoch 6/30, Loss: 0.10434963478256522\n",
      "Epoch 7/30, Loss: 0.09812651221688118\n",
      "Epoch 8/30, Loss: 0.09198295711335928\n",
      "Epoch 9/30, Loss: 0.08548992523787347\n",
      "Epoch 10/30, Loss: 0.08288807847801488\n",
      "Epoch 11/30, Loss: 0.0771229753947619\n",
      "Epoch 12/30, Loss: 0.07527470086197287\n",
      "Epoch 13/30, Loss: 0.07226784489581733\n",
      "Epoch 14/30, Loss: 0.06932442297283341\n",
      "Epoch 15/30, Loss: 0.06702786403421905\n",
      "Epoch 16/30, Loss: 0.06430369081410998\n",
      "Epoch 17/30, Loss: 0.0634121158669167\n",
      "Epoch 18/30, Loss: 0.05967053835600288\n",
      "Epoch 19/30, Loss: 0.058559700190919585\n",
      "Epoch 20/30, Loss: 0.05607296030791009\n",
      "Epoch 21/30, Loss: 0.05589241783453694\n",
      "Epoch 22/30, Loss: 0.05291236705582076\n",
      "Epoch 23/30, Loss: 0.05369510544263216\n",
      "Epoch 24/30, Loss: 0.05181910722526913\n",
      "Epoch 25/30, Loss: 0.05054031701357449\n",
      "Epoch 26/30, Loss: 0.049619563752047326\n",
      "Epoch 27/30, Loss: 0.04842851848370473\n",
      "Epoch 28/30, Loss: 0.04695942106497948\n",
      "Epoch 29/30, Loss: 0.046584334465431046\n",
      "Epoch 30/30, Loss: 0.04564171017054667\n"
     ]
    }
   ],
   "source": [
    "N_EPOCHS = 30\n",
    "\n",
    "for epoch in range(N_EPOCHS):\n",
    "    model.train()\n",
    "    total_loss = 0\n",
    "    \n",
    "    for sentence, tags, lengths, _ in train_loader:  \n",
    "        sentence, tags = sentence.to(device), tags.to(device)\n",
    "        model.zero_grad()\n",
    "        \n",
    "        tag_scores = model(sentence)\n",
    "        \n",
    "        tag_scores = tag_scores.view(-1, tag_scores.shape[-1])\n",
    "        tags = tags.view(-1)\n",
    "        \n",
    "        loss = loss_function(tag_scores, tags)\n",
    "        loss.backward()\n",
    "        optimizer.step()\n",
    "        \n",
    "        total_loss += loss.item()\n",
    "    \n",
    "    print(f\"Epoch {epoch+1}/{N_EPOCHS}, Loss: {total_loss/len(train_loader)}\")\n",
    "    \n",
    "    scheduler.step(total_loss/len(train_loader))\n",
    "\n"
   ]
  },
  {
   "cell_type": "markdown",
   "id": "0be60f44",
   "metadata": {},
   "source": [
    "#### 4.1 Writing predictions to a file"
   ]
  },
  {
   "cell_type": "code",
   "execution_count": 311,
   "id": "76f34eb4",
   "metadata": {},
   "outputs": [
    {
     "name": "stdout",
     "output_type": "stream",
     "text": [
      "Predictions written to dev1.out\n",
      "Predictions written to test1.out\n"
     ]
    }
   ],
   "source": [
    "idx_to_vocab = {idx: word for word, idx in word_to_idx.items()}\n",
    "idx_to_tag = {idx: tag for tag, idx in tag_to_idx.items()}\n",
    "\n",
    "def write_predictions_to_file(model, data_loader, idx_to_tag, output_file_path, original_sentences, original_sentence_lengths):\n",
    "    model.eval()\n",
    "    predictions = []\n",
    "\n",
    "    with torch.no_grad():\n",
    "        for batch in data_loader:\n",
    "            if len(batch) == 4:  # Tags are included in the batch\n",
    "                sentences, tags, lengths, indices = batch\n",
    "            else:  # No tags are included, as in the test set\n",
    "                sentences, lengths, indices = batch\n",
    "\n",
    "            sentences = sentences.to(device)\n",
    "            outputs = model(sentences)\n",
    "            predicted_tag_indices = torch.argmax(outputs, dim=2)\n",
    "\n",
    "            for i, index in enumerate(indices):\n",
    "                original_index = index.item()  # Ensure you're getting the correct index as an integer.\n",
    "                sentence_length = original_sentence_lengths[original_index]  # Use the original length for accurate indexing.\n",
    "                for j in range(sentence_length):\n",
    "                    original_word = original_sentences[original_index][j]\n",
    "                    predicted_tag_index = predicted_tag_indices[i][j].item()\n",
    "                    predicted_tag = idx_to_tag[predicted_tag_index]\n",
    "                    predictions.append(f\"{j+1} {original_word} {predicted_tag}\\n\")\n",
    "                predictions.append(\"\\n\")\n",
    "\n",
    "    with open(output_file_path, 'w') as writer:\n",
    "        writer.writelines(predictions)\n",
    "\n",
    "    print(f\"Predictions written to {output_file_path}\")\n",
    "\n",
    "\n",
    "\n",
    "dev_original_lengths = [len(sentence) for sentence in dev_original_sentences]\n",
    "test_original_lengths = [len(sentence) for sentence in test_original_sentences]\n",
    "\n",
    "# Example usage for dev set\n",
    "output_file_path = 'dev1.out'\n",
    "write_predictions_to_file(model, dev_loader, idx_to_tag, output_file_path, dev_original_sentences, dev_original_lengths)\n",
    "\n",
    "# Example usage for test set\n",
    "output_file_path = 'test1.out'\n",
    "write_predictions_to_file(model, test_loader, idx_to_tag, output_file_path, test_original_sentences, test_original_lengths)\n",
    "\n",
    "\n",
    "\n"
   ]
  },
  {
   "cell_type": "markdown",
   "id": "5fed2c46",
   "metadata": {},
   "source": [
    "### 5. Evaluation"
   ]
  },
  {
   "cell_type": "code",
   "execution_count": 312,
   "id": "0abe4537",
   "metadata": {},
   "outputs": [
    {
     "name": "stdout",
     "output_type": "stream",
     "text": [
      "processed 51578 tokens with 5942 phrases; found: 5592 phrases; correct: 4613.\r\n",
      "accuracy:  95.89%; precision:  82.49%; recall:  77.63%; FB1:  79.99\r\n",
      "              LOC: precision:  86.97%; recall:  86.50%; FB1:  86.74  1827\r\n",
      "             MISC: precision:  83.72%; recall:  74.73%; FB1:  78.97  823\r\n",
      "              ORG: precision:  76.85%; recall:  66.59%; FB1:  71.35  1162\r\n",
      "              PER: precision:  81.01%; recall:  78.28%; FB1:  79.62  1780\r\n"
     ]
    }
   ],
   "source": [
    "predicted_file_path = 'dev1.out'\n",
    "gold_standard_file_path = 'data/dev'\n",
    "\n",
    "!python eval.py -p {predicted_file_path} -g {gold_standard_file_path}\n"
   ]
  },
  {
   "cell_type": "markdown",
   "id": "cb3af5e8",
   "metadata": {},
   "source": [
    "#### 5.1 Saving the model"
   ]
  },
  {
   "cell_type": "code",
   "execution_count": 313,
   "id": "5554e74c",
   "metadata": {},
   "outputs": [],
   "source": [
    "import torch\n",
    "model_save_path = 'blstm1.pt'\n",
    "torch.save(model.state_dict(), model_save_path)"
   ]
  },
  {
   "cell_type": "code",
   "execution_count": null,
   "id": "a735ef4e",
   "metadata": {},
   "outputs": [],
   "source": []
  }
 ],
 "metadata": {
  "kernelspec": {
   "display_name": "Python 3 (ipykernel)",
   "language": "python",
   "name": "python3"
  },
  "language_info": {
   "codemirror_mode": {
    "name": "ipython",
    "version": 3
   },
   "file_extension": ".py",
   "mimetype": "text/x-python",
   "name": "python",
   "nbconvert_exporter": "python",
   "pygments_lexer": "ipython3",
   "version": "3.11.5"
  }
 },
 "nbformat": 4,
 "nbformat_minor": 5
}
